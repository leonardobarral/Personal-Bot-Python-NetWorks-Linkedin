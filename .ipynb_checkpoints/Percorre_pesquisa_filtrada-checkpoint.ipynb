{
 "cells": [
  {
   "cell_type": "markdown",
   "id": "2f529399",
   "metadata": {},
   "source": [
    "## Como atualizar o DRIVER\n",
    "___\n",
    "\n",
    "### 1 . No abaixo verificamos a versão atual do chrome.\n",
    "\n",
    "<chrome://settings/help>\n",
    "\n",
    "#### Neste caso a versão é: ```124.0.6367.62 (Official Build) (64-bit)```\n",
    "___\n",
    "\n",
    "### 2 . No link abaixo baixamos a versão compatível do chromedriver\n",
    "\n",
    "<https://chromedriver.chromium.org/downloads>\n",
    "    \n",
    "#### Caso não encontre a versão compativél com seu navegador, busque esntre as versões em desenvolvimento, e selecione a versão estável, encontre neste link\n",
    "\n",
    "<https://storage.googleapis.com/chrome-for-testing-public/124.0.6367.91/win64/chromedriver-win64.zip>\n",
    "\n",
    "___    \n",
    "\n",
    "### 3 . Apos baixar o arquivo, salve na pasta abaixo, estraia o executor .exe e salve na pasta abaixo.\n",
    "\n",
    "<C:\\Users\\user\\Anaconda3>\n",
    "___\n"
   ]
  },
  {
   "cell_type": "markdown",
   "id": "6c77f3de",
   "metadata": {},
   "source": [
    "# Configuração inicial"
   ]
  },
  {
   "cell_type": "code",
   "execution_count": 1,
   "id": "992fab33",
   "metadata": {},
   "outputs": [],
   "source": [
    "from functions_access import acessar_e_adicionar,acessar_perfil,fecharAbas\n",
    "from selenium import webdriver\n",
    "from selenium.webdriver.common.by import By\n",
    "from selenium.webdriver.common.keys import Keys\n",
    "import time\n",
    "import random"
   ]
  },
  {
   "cell_type": "code",
   "execution_count": 2,
   "id": "eeca69d1",
   "metadata": {},
   "outputs": [],
   "source": [
    "#Chrome\n",
    "chrome_options = webdriver.ChromeOptions()\n",
    "driver = webdriver.Chrome(options=chrome_options)\n",
    "\n",
    "# Firefox\n",
    "# firefox_binary_path = 'C:\\\\Program Files\\\\Mozilla Firefox\\\\firefox.exe'\n",
    "# firefox_options = webdriver.FirefoxOptions()\n",
    "# firefox_options.binary_location = firefox_binary_path\n",
    "# driver = webdriver.Firefox(executable_path = 'C:\\\\Users\\\\leona\\\\Anaconda3\\\\geckodriver.exe', firefox_options=firefox_options)"
   ]
  },
  {
   "cell_type": "markdown",
   "id": "8d3d0413",
   "metadata": {},
   "source": [
    "# Login"
   ]
  },
  {
   "cell_type": "code",
   "execution_count": 3,
   "id": "b11e83a0",
   "metadata": {},
   "outputs": [],
   "source": [
    "#variaveis\n",
    "path_login = \"https://www.linkedin.com/login/pt?fromSignIn=true&trk=guest_homepage-basic_nav-header-signin\"\n",
    "path_search = \"https://www.linkedin.com/search/results/people/?currentCompany=%5B%2231921%22%2C%223067%22%2C%221033%22%2C%221353%22%2C%221038%22%2C%22157240%22%2C%221009%22%2C%221318%22%2C%221680%22%2C%221283%22%2C%224972%22%2C%221259%22%2C%223586%22%2C%22100049664%22%2C%22100705967%22%2C%2210074517%22%2C%2210878560%22%2C%2211486158%22%2C%22116073%22%2C%221218170%22%2C%221473063%22%2C%221520021%22%2C%2215221987%22%2C%2215231%22%2C%2215262025%22%2C%221538475%22%2C%2216185268%22%2C%2216198010%22%2C%22164182%22%2C%2216440%22%2C%2218535%22%2C%2219126858%22%2C%22205644%22%2C%22211702%22%2C%22213511%22%2C%2221936%22%2C%22226731%22%2C%222449847%22%2C%222508387%22%2C%222607058%22%2C%222645401%22%2C%2226649211%22%2C%2226841%22%2C%222689312%22%2C%2227653%22%2C%222775365%22%2C%2227789902%22%2C%222862346%22%2C%222878205%22%2C%223094754%22%2C%223233057%22%2C%2233617%22%2C%2235835%22%2C%223829762%22%2C%2240814323%22%2C%2240923129%22%2C%22429642%22%2C%224300%22%2C%224500%22%2C%22467048%22%2C%224897%22%2C%22495911%22%2C%225034%22%2C%225140%22%2C%225185836%22%2C%2252116019%22%2C%225300%22%2C%225344%22%2C%22582324%22%2C%225973060%22%2C%226005%22%2C%22619971%22%2C%2264618175%22%2C%2264907739%22%2C%2267772061%22%2C%22698399%22%2C%2272092703%22%2C%227356%22%2C%22738478%22%2C%2278208%22%2C%22811122%22%2C%228141%22%2C%2282595369%22%2C%2286157465%22%2C%22889050%22%2C%2289835790%22%2C%22906658%22%2C%2291398373%22%2C%2292814%22%2C%2293212031%22%2C%2296479367%22%2C%2298617994%22%5D&keywords=tech%20recruiter&network=%5B%22S%22%2C%22O%22%5D&origin=FACETED_SEARCH&sid=BQM\"\n",
    "email = 'teste@gmail.com'\n",
    "password = '123'\n",
    "\n",
    "driver.get(path_login)\n",
    "\n",
    "#campos\n",
    "input_username = driver.find_element(By.ID, \"username\")\n",
    "input_password = driver.find_element(By.ID, \"password\")\n",
    "button = driver.find_element(By.CLASS_NAME, \"from__button--floating\")\n",
    "\n",
    "input_username.clear()\n",
    "input_username.send_keys(email)\n",
    "input_password.clear()\n",
    "input_password.send_keys(password)\n",
    "button.click()\n",
    "time.sleep(1)\n",
    "driver.get(path_search)\n",
    "driver.execute_script(\"window.open('');\")"
   ]
  },
  {
   "cell_type": "markdown",
   "id": "88a2581a",
   "metadata": {},
   "source": [
    "# Ações"
   ]
  },
  {
   "cell_type": "code",
   "execution_count": 4,
   "id": "85efe5a6",
   "metadata": {},
   "outputs": [],
   "source": [
    "def menu(opcao):\n",
    "    if opcao == 1: \n",
    "            return acessar_perfil(driver,webdriver,By,Keys,time,random)\n",
    "    elif opcao == 2:\n",
    "            return acessar_e_adicionar(driver,webdriver,By,Keys,time,random)\n",
    "    else:\n",
    "            return \"Opção Inválida\""
   ]
  },
  {
   "cell_type": "code",
   "execution_count": 5,
   "id": "4e3e443f",
   "metadata": {},
   "outputs": [
    {
     "name": "stdout",
     "output_type": "stream",
     "text": [
      "Escolha uma das opções:\n",
      "                  \n",
      "1 - Percorrer lista filtrada e visualizar o perfil;\n",
      "                  \n",
      "2 - Percorrer lista filtrada e solicitar conexão com mensagem personalizada;\n",
      "\n",
      "                  1\n",
      "0 - Geovana\n",
      "1 - Caroline\n",
      "2 - Lucas\n",
      "3 - Jéssica\n"
     ]
    },
    {
     "ename": "NoSuchWindowException",
     "evalue": "Message: no such window: target window already closed\nfrom unknown error: web view not found\n  (Session info: chrome=128.0.6613.84)\n",
     "output_type": "error",
     "traceback": [
      "\u001b[1;31m---------------------------------------------------------------------------\u001b[0m",
      "\u001b[1;31mNoSuchWindowException\u001b[0m                     Traceback (most recent call last)",
      "\u001b[1;32m<ipython-input-5-a3890739a166>\u001b[0m in \u001b[0;36m<module>\u001b[1;34m\u001b[0m\n\u001b[0;32m      3\u001b[0m                   \u001b[0;31m\\\u001b[0m\u001b[0mn2\u001b[0m \u001b[1;33m-\u001b[0m \u001b[0mPercorrer\u001b[0m \u001b[0mlista\u001b[0m \u001b[0mfiltrada\u001b[0m \u001b[0me\u001b[0m \u001b[0msolicitar\u001b[0m \u001b[0mconexão\u001b[0m \u001b[0mcom\u001b[0m \u001b[0mmensagem\u001b[0m \u001b[0mpersonalizada\u001b[0m\u001b[1;33m;\u001b[0m\u001b[0;31m\\\u001b[0m\u001b[0mn\u001b[0m\u001b[1;33m\u001b[0m\u001b[1;33m\u001b[0m\u001b[0m\n\u001b[0;32m      4\u001b[0m                   \"\"\"))\n\u001b[1;32m----> 5\u001b[1;33m \u001b[0mmenu\u001b[0m\u001b[1;33m(\u001b[0m\u001b[0mopcao\u001b[0m\u001b[1;33m)\u001b[0m\u001b[1;33m\u001b[0m\u001b[1;33m\u001b[0m\u001b[0m\n\u001b[0m",
      "\u001b[1;32m<ipython-input-4-8b3d55dcbdf7>\u001b[0m in \u001b[0;36mmenu\u001b[1;34m(opcao)\u001b[0m\n\u001b[0;32m      1\u001b[0m \u001b[1;32mdef\u001b[0m \u001b[0mmenu\u001b[0m\u001b[1;33m(\u001b[0m\u001b[0mopcao\u001b[0m\u001b[1;33m)\u001b[0m\u001b[1;33m:\u001b[0m\u001b[1;33m\u001b[0m\u001b[1;33m\u001b[0m\u001b[0m\n\u001b[0;32m      2\u001b[0m     \u001b[1;32mif\u001b[0m \u001b[0mopcao\u001b[0m \u001b[1;33m==\u001b[0m \u001b[1;36m1\u001b[0m\u001b[1;33m:\u001b[0m\u001b[1;33m\u001b[0m\u001b[1;33m\u001b[0m\u001b[0m\n\u001b[1;32m----> 3\u001b[1;33m             \u001b[1;32mreturn\u001b[0m \u001b[0macessar_perfil\u001b[0m\u001b[1;33m(\u001b[0m\u001b[0mdriver\u001b[0m\u001b[1;33m,\u001b[0m\u001b[0mwebdriver\u001b[0m\u001b[1;33m,\u001b[0m\u001b[0mBy\u001b[0m\u001b[1;33m,\u001b[0m\u001b[0mKeys\u001b[0m\u001b[1;33m,\u001b[0m\u001b[0mtime\u001b[0m\u001b[1;33m,\u001b[0m\u001b[0mrandom\u001b[0m\u001b[1;33m)\u001b[0m\u001b[1;33m\u001b[0m\u001b[1;33m\u001b[0m\u001b[0m\n\u001b[0m\u001b[0;32m      4\u001b[0m     \u001b[1;32melif\u001b[0m \u001b[0mopcao\u001b[0m \u001b[1;33m==\u001b[0m \u001b[1;36m2\u001b[0m\u001b[1;33m:\u001b[0m\u001b[1;33m\u001b[0m\u001b[1;33m\u001b[0m\u001b[0m\n\u001b[0;32m      5\u001b[0m             \u001b[1;32mreturn\u001b[0m \u001b[0macessar_e_adicionar\u001b[0m\u001b[1;33m(\u001b[0m\u001b[0mdriver\u001b[0m\u001b[1;33m,\u001b[0m\u001b[0mwebdriver\u001b[0m\u001b[1;33m,\u001b[0m\u001b[0mBy\u001b[0m\u001b[1;33m,\u001b[0m\u001b[0mKeys\u001b[0m\u001b[1;33m,\u001b[0m\u001b[0mtime\u001b[0m\u001b[1;33m,\u001b[0m\u001b[0mrandom\u001b[0m\u001b[1;33m)\u001b[0m\u001b[1;33m\u001b[0m\u001b[1;33m\u001b[0m\u001b[0m\n",
      "\u001b[1;32mC:\\fiap\\Vagas\\Personal-Bot-Python-NetWorks-Linkedin\\functions_access.py\u001b[0m in \u001b[0;36macessar_perfil\u001b[1;34m(driver, webdriver, By, Keys, time, random)\u001b[0m\n\u001b[0;32m     31\u001b[0m                 \u001b[0mdriver\u001b[0m\u001b[1;33m.\u001b[0m\u001b[0mget\u001b[0m\u001b[1;33m(\u001b[0m\u001b[0mlinks\u001b[0m\u001b[1;33m[\u001b[0m\u001b[0mi\u001b[0m\u001b[1;33m]\u001b[0m\u001b[1;33m)\u001b[0m\u001b[1;33m\u001b[0m\u001b[1;33m\u001b[0m\u001b[0m\n\u001b[0;32m     32\u001b[0m                 \u001b[0mtime\u001b[0m\u001b[1;33m.\u001b[0m\u001b[0msleep\u001b[0m\u001b[1;33m(\u001b[0m\u001b[0mrandom\u001b[0m\u001b[1;33m.\u001b[0m\u001b[0mrandint\u001b[0m\u001b[1;33m(\u001b[0m\u001b[1;36m2\u001b[0m\u001b[1;33m,\u001b[0m \u001b[1;36m4\u001b[0m\u001b[1;33m)\u001b[0m\u001b[1;33m)\u001b[0m\u001b[1;33m\u001b[0m\u001b[1;33m\u001b[0m\u001b[0m\n\u001b[1;32m---> 33\u001b[1;33m                 \u001b[0mfecharAbas\u001b[0m\u001b[1;33m(\u001b[0m\u001b[0mdriver\u001b[0m\u001b[1;33m,\u001b[0m\u001b[0mBy\u001b[0m\u001b[1;33m)\u001b[0m\u001b[1;33m\u001b[0m\u001b[1;33m\u001b[0m\u001b[0m\n\u001b[0m\u001b[0;32m     34\u001b[0m                 \u001b[0mnome\u001b[0m \u001b[1;33m=\u001b[0m \u001b[0mdriver\u001b[0m\u001b[1;33m.\u001b[0m\u001b[0mfind_element\u001b[0m\u001b[1;33m(\u001b[0m\u001b[0mBy\u001b[0m\u001b[1;33m.\u001b[0m\u001b[0mTAG_NAME\u001b[0m\u001b[1;33m,\u001b[0m\u001b[1;34m\"h1\"\u001b[0m\u001b[1;33m)\u001b[0m\u001b[1;33m.\u001b[0m\u001b[0mtext\u001b[0m\u001b[1;33m.\u001b[0m\u001b[0msplit\u001b[0m\u001b[1;33m(\u001b[0m\u001b[1;33m)\u001b[0m\u001b[1;33m[\u001b[0m\u001b[1;36m0\u001b[0m\u001b[1;33m]\u001b[0m\u001b[1;33m\u001b[0m\u001b[1;33m\u001b[0m\u001b[0m\n\u001b[0;32m     35\u001b[0m \u001b[1;33m\u001b[0m\u001b[0m\n",
      "\u001b[1;32mC:\\fiap\\Vagas\\Personal-Bot-Python-NetWorks-Linkedin\\functions_access.py\u001b[0m in \u001b[0;36mfecharAbas\u001b[1;34m(driver, By)\u001b[0m\n\u001b[0;32m      1\u001b[0m \u001b[1;32mdef\u001b[0m \u001b[0mfecharAbas\u001b[0m\u001b[1;33m(\u001b[0m\u001b[0mdriver\u001b[0m\u001b[1;33m,\u001b[0m\u001b[0mBy\u001b[0m\u001b[1;33m)\u001b[0m\u001b[1;33m:\u001b[0m\u001b[1;33m\u001b[0m\u001b[1;33m\u001b[0m\u001b[0m\n\u001b[1;32m----> 2\u001b[1;33m     \u001b[0mjanelas\u001b[0m \u001b[1;33m=\u001b[0m \u001b[0mdriver\u001b[0m\u001b[1;33m.\u001b[0m\u001b[0mfind_elements\u001b[0m\u001b[1;33m(\u001b[0m\u001b[0mBy\u001b[0m\u001b[1;33m.\u001b[0m\u001b[0mCLASS_NAME\u001b[0m\u001b[1;33m,\u001b[0m\u001b[1;34m\"msg-convo-wrapper\"\u001b[0m\u001b[1;33m)\u001b[0m\u001b[1;33m\u001b[0m\u001b[1;33m\u001b[0m\u001b[0m\n\u001b[0m\u001b[0;32m      3\u001b[0m     \u001b[1;32mif\u001b[0m \u001b[0mlen\u001b[0m\u001b[1;33m(\u001b[0m\u001b[0mjanelas\u001b[0m\u001b[1;33m)\u001b[0m \u001b[1;33m>\u001b[0m \u001b[1;36m0\u001b[0m \u001b[1;33m:\u001b[0m\u001b[1;33m\u001b[0m\u001b[1;33m\u001b[0m\u001b[0m\n\u001b[0;32m      4\u001b[0m         \u001b[1;32mfor\u001b[0m \u001b[0mi\u001b[0m \u001b[1;32min\u001b[0m \u001b[0mjanelas\u001b[0m\u001b[1;33m:\u001b[0m\u001b[1;33m\u001b[0m\u001b[1;33m\u001b[0m\u001b[0m\n\u001b[0;32m      5\u001b[0m             \u001b[1;32mtry\u001b[0m\u001b[1;33m:\u001b[0m\u001b[1;33m\u001b[0m\u001b[1;33m\u001b[0m\u001b[0m\n",
      "\u001b[1;32m~\\Anaconda3\\lib\\site-packages\\selenium\\webdriver\\remote\\webdriver.py\u001b[0m in \u001b[0;36mfind_elements\u001b[1;34m(self, by, value)\u001b[0m\n\u001b[0;32m   1003\u001b[0m         \u001b[1;31m# Return empty list if driver returns null\u001b[0m\u001b[1;33m\u001b[0m\u001b[1;33m\u001b[0m\u001b[1;33m\u001b[0m\u001b[0m\n\u001b[0;32m   1004\u001b[0m         \u001b[1;31m# See https://github.com/SeleniumHQ/selenium/issues/4555\u001b[0m\u001b[1;33m\u001b[0m\u001b[1;33m\u001b[0m\u001b[1;33m\u001b[0m\u001b[0m\n\u001b[1;32m-> 1005\u001b[1;33m         return self.execute(Command.FIND_ELEMENTS, {\n\u001b[0m\u001b[0;32m   1006\u001b[0m             \u001b[1;34m'using'\u001b[0m\u001b[1;33m:\u001b[0m \u001b[0mby\u001b[0m\u001b[1;33m,\u001b[0m\u001b[1;33m\u001b[0m\u001b[1;33m\u001b[0m\u001b[0m\n\u001b[0;32m   1007\u001b[0m             'value': value})['value'] or []\n",
      "\u001b[1;32m~\\Anaconda3\\lib\\site-packages\\selenium\\webdriver\\remote\\webdriver.py\u001b[0m in \u001b[0;36mexecute\u001b[1;34m(self, driver_command, params)\u001b[0m\n\u001b[0;32m    319\u001b[0m         \u001b[0mresponse\u001b[0m \u001b[1;33m=\u001b[0m \u001b[0mself\u001b[0m\u001b[1;33m.\u001b[0m\u001b[0mcommand_executor\u001b[0m\u001b[1;33m.\u001b[0m\u001b[0mexecute\u001b[0m\u001b[1;33m(\u001b[0m\u001b[0mdriver_command\u001b[0m\u001b[1;33m,\u001b[0m \u001b[0mparams\u001b[0m\u001b[1;33m)\u001b[0m\u001b[1;33m\u001b[0m\u001b[1;33m\u001b[0m\u001b[0m\n\u001b[0;32m    320\u001b[0m         \u001b[1;32mif\u001b[0m \u001b[0mresponse\u001b[0m\u001b[1;33m:\u001b[0m\u001b[1;33m\u001b[0m\u001b[1;33m\u001b[0m\u001b[0m\n\u001b[1;32m--> 321\u001b[1;33m             \u001b[0mself\u001b[0m\u001b[1;33m.\u001b[0m\u001b[0merror_handler\u001b[0m\u001b[1;33m.\u001b[0m\u001b[0mcheck_response\u001b[0m\u001b[1;33m(\u001b[0m\u001b[0mresponse\u001b[0m\u001b[1;33m)\u001b[0m\u001b[1;33m\u001b[0m\u001b[1;33m\u001b[0m\u001b[0m\n\u001b[0m\u001b[0;32m    322\u001b[0m             response['value'] = self._unwrap_value(\n\u001b[0;32m    323\u001b[0m                 response.get('value', None))\n",
      "\u001b[1;32m~\\Anaconda3\\lib\\site-packages\\selenium\\webdriver\\remote\\errorhandler.py\u001b[0m in \u001b[0;36mcheck_response\u001b[1;34m(self, response)\u001b[0m\n\u001b[0;32m    240\u001b[0m                 \u001b[0malert_text\u001b[0m \u001b[1;33m=\u001b[0m \u001b[0mvalue\u001b[0m\u001b[1;33m[\u001b[0m\u001b[1;34m'alert'\u001b[0m\u001b[1;33m]\u001b[0m\u001b[1;33m.\u001b[0m\u001b[0mget\u001b[0m\u001b[1;33m(\u001b[0m\u001b[1;34m'text'\u001b[0m\u001b[1;33m)\u001b[0m\u001b[1;33m\u001b[0m\u001b[1;33m\u001b[0m\u001b[0m\n\u001b[0;32m    241\u001b[0m             \u001b[1;32mraise\u001b[0m \u001b[0mexception_class\u001b[0m\u001b[1;33m(\u001b[0m\u001b[0mmessage\u001b[0m\u001b[1;33m,\u001b[0m \u001b[0mscreen\u001b[0m\u001b[1;33m,\u001b[0m \u001b[0mstacktrace\u001b[0m\u001b[1;33m,\u001b[0m \u001b[0malert_text\u001b[0m\u001b[1;33m)\u001b[0m\u001b[1;33m\u001b[0m\u001b[1;33m\u001b[0m\u001b[0m\n\u001b[1;32m--> 242\u001b[1;33m         \u001b[1;32mraise\u001b[0m \u001b[0mexception_class\u001b[0m\u001b[1;33m(\u001b[0m\u001b[0mmessage\u001b[0m\u001b[1;33m,\u001b[0m \u001b[0mscreen\u001b[0m\u001b[1;33m,\u001b[0m \u001b[0mstacktrace\u001b[0m\u001b[1;33m)\u001b[0m\u001b[1;33m\u001b[0m\u001b[1;33m\u001b[0m\u001b[0m\n\u001b[0m\u001b[0;32m    243\u001b[0m \u001b[1;33m\u001b[0m\u001b[0m\n\u001b[0;32m    244\u001b[0m     \u001b[1;32mdef\u001b[0m \u001b[0m_value_or_default\u001b[0m\u001b[1;33m(\u001b[0m\u001b[0mself\u001b[0m\u001b[1;33m,\u001b[0m \u001b[0mobj\u001b[0m\u001b[1;33m,\u001b[0m \u001b[0mkey\u001b[0m\u001b[1;33m,\u001b[0m \u001b[0mdefault\u001b[0m\u001b[1;33m)\u001b[0m\u001b[1;33m:\u001b[0m\u001b[1;33m\u001b[0m\u001b[1;33m\u001b[0m\u001b[0m\n",
      "\u001b[1;31mNoSuchWindowException\u001b[0m: Message: no such window: target window already closed\nfrom unknown error: web view not found\n  (Session info: chrome=128.0.6613.84)\n"
     ]
    }
   ],
   "source": [
    "opcao = int(input(\"\"\"Escolha uma das opções:\n",
    "                  \\n1 - Percorrer lista filtrada e visualizar o perfil;\n",
    "                  \\n2 - Percorrer lista filtrada e solicitar conexão com mensagem personalizada;\\n\n",
    "                  \"\"\"))\n",
    "menu(opcao)"
   ]
  },
  {
   "cell_type": "code",
   "execution_count": null,
   "id": "d9773bd1",
   "metadata": {},
   "outputs": [],
   "source": []
  }
 ],
 "metadata": {
  "kernelspec": {
   "display_name": "Python 3",
   "language": "python",
   "name": "python3"
  },
  "language_info": {
   "codemirror_mode": {
    "name": "ipython",
    "version": 3
   },
   "file_extension": ".py",
   "mimetype": "text/x-python",
   "name": "python",
   "nbconvert_exporter": "python",
   "pygments_lexer": "ipython3",
   "version": "3.8.8"
  }
 },
 "nbformat": 4,
 "nbformat_minor": 5
}
